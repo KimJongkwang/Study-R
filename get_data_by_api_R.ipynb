{
  "nbformat": 4,
  "nbformat_minor": 0,
  "metadata": {
    "colab": {
      "provenance": [],
      "collapsed_sections": [],
      "authorship_tag": "ABX9TyPankVU6jU6UekLLZnMTJ3x",
      "include_colab_link": true
    },
    "kernelspec": {
      "name": "ir",
      "display_name": "R"
    },
    "language_info": {
      "name": "R"
    },
    "gpuClass": "standard"
  },
  "cells": [
    {
      "cell_type": "markdown",
      "metadata": {
        "id": "view-in-github",
        "colab_type": "text"
      },
      "source": [
        "<a href=\"https://colab.research.google.com/github/KimJongkwang/Study-R/blob/main/get_data_by_api_R.ipynb\" target=\"_parent\"><img src=\"https://colab.research.google.com/assets/colab-badge.svg\" alt=\"Open In Colab\"/></a>"
      ]
    },
    {
      "cell_type": "code",
      "execution_count": 46,
      "metadata": {
        "colab": {
          "base_uri": "https://localhost:8080/",
          "height": 35
        },
        "id": "z9d__2KNZ3me",
        "outputId": "c8849fca-0dae-4463-c2e4-aa84d8c74def"
      },
      "outputs": [
        {
          "output_type": "display_data",
          "data": {
            "text/plain": [
              "[1] ‘4.2.1’"
            ]
          },
          "metadata": {}
        }
      ],
      "source": [
        "package_version(R.version)"
      ]
    },
    {
      "cell_type": "code",
      "source": [
        "R.version"
      ],
      "metadata": {
        "colab": {
          "base_uri": "https://localhost:8080/",
          "height": 292
        },
        "id": "vjkDdBPHaJJ2",
        "outputId": "2546344b-1e67-44b3-9e18-8adce19d5276"
      },
      "execution_count": 47,
      "outputs": [
        {
          "output_type": "display_data",
          "data": {
            "text/plain": [
              "               _                           \n",
              "platform       x86_64-pc-linux-gnu         \n",
              "arch           x86_64                      \n",
              "os             linux-gnu                   \n",
              "system         x86_64, linux-gnu           \n",
              "status                                     \n",
              "major          4                           \n",
              "minor          2.1                         \n",
              "year           2022                        \n",
              "month          06                          \n",
              "day            23                          \n",
              "svn rev        82513                       \n",
              "language       R                           \n",
              "version.string R version 4.2.1 (2022-06-23)\n",
              "nickname       Funny-Looking Kid           "
            ]
          },
          "metadata": {}
        }
      ]
    },
    {
      "cell_type": "code",
      "source": [
        "library(dplyr)\n",
        "library(httr)  # GET()\n",
        "library(xml2)  # as_list()"
      ],
      "metadata": {
        "id": "ilWQXGB5aKz-"
      },
      "execution_count": 48,
      "outputs": []
    },
    {
      "cell_type": "markdown",
      "source": [
        "# 데이터 수집하기(API)"
      ],
      "metadata": {
        "id": "QOqjEWm5ygjd"
      }
    },
    {
      "cell_type": "code",
      "source": [
        "URL <- \"http://apis.data.go.kr/1360000/VilageFcstInfoService_2.0/getVilageFcst\"\n",
        "KEY <- \"\""
      ],
      "metadata": {
        "id": "R7DXlmzudq5Y"
      },
      "execution_count": 49,
      "outputs": []
    },
    {
      "cell_type": "markdown",
      "source": [
        "## API 요청하기(XML)"
      ],
      "metadata": {
        "id": "HQriAGf8sIFb"
      }
    },
    {
      "cell_type": "code",
      "source": [
        "query_list <- list(\n",
        "    serviceKey = I(KEY),  # 인증키 %가 있으면 더블인코딩 문제 발생 그래서 I()\n",
        "    numOfRows = \"10\",\n",
        "    pageNo = \"1\",\n",
        "    dataType = \"XML\",\n",
        "    base_date = \"20220913\",\n",
        "    base_time = \"0500\",\n",
        "    nx = \"60\",\n",
        "    ny = \"127\"\n",
        "    )\n",
        "\n",
        "response <- GET(url = URL, query = query_list)"
      ],
      "metadata": {
        "id": "MEfIisyHfCZ-"
      },
      "execution_count": 50,
      "outputs": []
    },
    {
      "cell_type": "markdown",
      "source": [
        "### xml2 패키지 도움받기\n",
        "#### 직접 속성에 접근"
      ],
      "metadata": {
        "id": "1n3YSOVeriQG"
      }
    },
    {
      "cell_type": "code",
      "source": [
        "data_xml <- httr::content(response) %>% xml2::as_list()\n",
        "items_xml <- data_xml$response$body$items\n",
        "\n",
        "df <- data.frame()\n",
        "for (i in seq(length(items_xml))){\n",
        "    df <- rbind(df, unlist(items_xml[i]$item))\n",
        "}\n",
        "names(df) <- c('baseDate','baseTime','category','fcstDate','fcstTime','fcstValue','nx','ny')"
      ],
      "metadata": {
        "id": "5ym8Wr0t_QWd"
      },
      "execution_count": 51,
      "outputs": []
    },
    {
      "cell_type": "markdown",
      "source": [
        "#### 패키지 함수 사용"
      ],
      "metadata": {
        "id": "rZ-fXZcwredK"
      }
    },
    {
      "cell_type": "code",
      "source": [
        "item_content <- xml2::xml_find_all(content(response), xpath = \"//item\")\n",
        "unlist_data <- unlist(xml2::as_list(item_content), use.name = F)\n",
        "matrix_data <- matrix(unlist_data, ncol = 8, byrow=T)\n",
        "df <- data.frame(matrix_data)\n",
        "names(df) <- c('baseDate','baseTime','category','fcstDate','fcstTime','fcstValue','nx','ny')"
      ],
      "metadata": {
        "id": "iRSv3adRI-gb"
      },
      "execution_count": 52,
      "outputs": []
    },
    {
      "cell_type": "markdown",
      "source": [
        "### XML 패키지 도움받기"
      ],
      "metadata": {
        "id": "Rki6HRm3rmp-"
      }
    },
    {
      "cell_type": "code",
      "source": [
        "install.packages(\"XML\")\n",
        "require(\"XML\")"
      ],
      "metadata": {
        "colab": {
          "base_uri": "https://localhost:8080/"
        },
        "id": "ei8esJnDqCrK",
        "outputId": "0a80e8b6-3957-4af8-c243-20a92ac9bf2b"
      },
      "execution_count": 53,
      "outputs": [
        {
          "output_type": "stream",
          "name": "stderr",
          "text": [
            "Installing package into ‘/usr/local/lib/R/site-library’\n",
            "(as ‘lib’ is unspecified)\n",
            "\n"
          ]
        }
      ]
    },
    {
      "cell_type": "code",
      "source": [
        "query_string <- paste0(\n",
        "    \"serviceKey=\", query_list$serviceKey,\n",
        "    \"&numOfRows=\", query_list$numOfRows,\n",
        "    \"&pageNo=\", query_list$pageNo,\n",
        "    \"&dataType=\", \"XML\",\n",
        "    \"&base_date=\", query_list$base_date,\n",
        "    \"&base_time=\", query_list$base_time,\n",
        "    \"&nx=\", query_list$nx,\n",
        "    \"&ny=\", query_list$ny\n",
        "    )\n",
        "\n",
        "request_url <- paste0(URL, \"?\", query_string)"
      ],
      "metadata": {
        "id": "0Lx2qhlqqL2v"
      },
      "execution_count": 57,
      "outputs": []
    },
    {
      "cell_type": "code",
      "source": [
        "response <- xmlTreeParse(request_url, useInternalNodes = T, encoding = \"UTF-8\")\n",
        "xml_root <- xmlRoot(response)\n",
        "xml_item_node <- getNodeSet(doc = xml_root, path = \"//response/body/items/item\")\n",
        "df <- xmlToDataFrame(xml_item_node)"
      ],
      "metadata": {
        "id": "1xXBOZvcDoTm"
      },
      "execution_count": 59,
      "outputs": []
    },
    {
      "cell_type": "markdown",
      "source": [
        "## API 요청하기(JSON)"
      ],
      "metadata": {
        "id": "8G62XvNEsNrt"
      }
    },
    {
      "cell_type": "code",
      "source": [
        "query_string <- paste0(\n",
        "    \"serviceKey=\", query_list$serviceKey,\n",
        "    \"&numOfRows=\", query_list$numOfRows,\n",
        "    \"&pageNo=\", query_list$pageNo,\n",
        "    \"&dataType=\", \"JSON\",\n",
        "    \"&base_date=\", query_list$base_date,\n",
        "    \"&base_time=\", query_list$base_time,\n",
        "    \"&nx=\", query_list$nx,\n",
        "    \"&ny=\", query_list$ny\n",
        "    )\n",
        "\n",
        "request_url <- paste(URL, query_string, sep=\"?\")\n",
        "response <- GET(url=request_url)"
      ],
      "metadata": {
        "id": "JzhNP_YYsiKd"
      },
      "execution_count": 60,
      "outputs": []
    },
    {
      "cell_type": "markdown",
      "source": [
        "데이터 확인"
      ],
      "metadata": {
        "id": "vRLfa5Q6wO6x"
      }
    },
    {
      "cell_type": "code",
      "source": [
        "content(response)"
      ],
      "metadata": {
        "id": "olJy7jDGs7A-"
      },
      "execution_count": null,
      "outputs": []
    },
    {
      "cell_type": "code",
      "source": [
        "help(content)"
      ],
      "metadata": {
        "id": "zwYREbICtMfe"
      },
      "execution_count": 62,
      "outputs": []
    },
    {
      "cell_type": "markdown",
      "source": [
        "```\n",
        "content                  package:httr                  R Documentation\n",
        "\n",
        "     There are currently three ways to retrieve the contents of a\n",
        "     request: as a raw object (‘as = \"raw\"’), as a character vector,\n",
        "     (‘as = \"text\"’), and as parsed into an R object where possible,\n",
        "     (‘as = \"parsed\"’). If ‘as’ is not specified, ‘content’ does its\n",
        "     best to guess which output is most appropriate.\n",
        "```"
      ],
      "metadata": {
        "id": "B4vXjtC0uike"
      }
    },
    {
      "cell_type": "code",
      "source": [
        "content(response)\n",
        "# content(response)$response$body$items"
      ],
      "metadata": {
        "id": "UiNblil9vhCa"
      },
      "execution_count": null,
      "outputs": []
    },
    {
      "cell_type": "code",
      "source": [
        "# content(response, as = \"raw\")\n",
        "# content(response, as = \"text\")\n",
        "# content(response, as = \"parsed\")"
      ],
      "metadata": {
        "id": "6zgsRPt-u05C"
      },
      "execution_count": null,
      "outputs": []
    },
    {
      "cell_type": "code",
      "source": [
        "unlist_data <- unlist(content(response)$response$body$items, use.name = F)\n",
        "matrix_data <- matrix(unlist_data, ncol = 8, byrow=T)\n",
        "df <- data.frame(matrix_data)\n",
        "names(df) <- c('baseDate','baseTime','category','fcstDate','fcstTime','fcstValue','nx','ny')"
      ],
      "metadata": {
        "id": "5T5lcNkNvSO5"
      },
      "execution_count": 64,
      "outputs": []
    },
    {
      "cell_type": "markdown",
      "source": [
        "## jsonlite 패키지\n",
        "\n",
        "`content()`함수가 list로 변환시키지 못하고 json으로 받았을 경우"
      ],
      "metadata": {
        "id": "MvdGCHhpxrcp"
      }
    },
    {
      "cell_type": "code",
      "source": [
        "library(jsonlite)"
      ],
      "metadata": {
        "id": "Q9hrIDi4x5Bm"
      },
      "execution_count": 65,
      "outputs": []
    },
    {
      "cell_type": "code",
      "source": [
        "# list data 역으로 json으로 변환\n",
        "json_content <- jsonlite::toJSON(content(response), pretty = T, auto_unbox = T)\n",
        "# json_content"
      ],
      "metadata": {
        "id": "ZWYGMKaTx8UB"
      },
      "execution_count": 66,
      "outputs": []
    },
    {
      "cell_type": "code",
      "source": [
        "from_json_content <- jsonlite::fromJSON(json_content)\n",
        "# from_json_content"
      ],
      "metadata": {
        "id": "LJTSH2OEwIBa"
      },
      "execution_count": 67,
      "outputs": []
    },
    {
      "cell_type": "code",
      "source": [
        "# item 속성 접근하여 df 할당\n",
        "df <- from_json_content$response$body$items$item\n",
        "# df"
      ],
      "metadata": {
        "id": "9mElOQtiyOjD"
      },
      "execution_count": 68,
      "outputs": []
    },
    {
      "cell_type": "markdown",
      "source": [
        "\n",
        "# 데이터 수집부터 분석까지 활용하기\n",
        "\n",
        "## 문제정의\n",
        "\n",
        "기상청의 기상 예측이 얼마나 정확했는지를 알아보자.(서울에 국한하여)\n",
        "\n",
        "\n",
        "최근 2일간 기상청 단기예보 API와 관측강수 API를 받아 1시간 단위로 비교해보고 시각화(강수량과 기온)\n",
        "- 단기예보 API : https://www.data.go.kr/data/15084084/openapi.do\n",
        "- 관측 API : https://www.data.go.kr/data/15057210/openapi.do\n",
        "\n",
        "---\n",
        "\n",
        "### 비교 항목 정보\n",
        "\n",
        "- 단기예보의 nx, ny는 각각 60, 127(서울특별시 종로구 교남동)\n",
        "    - base_date마다 base_time = \"02\"\n",
        "    - 강수량 : PCP\n",
        "    - 기온 : TMP\n",
        "- 기상 관측소 108\n",
        "    - 강수량 : rn\n",
        "    - 기온 : ta\n",
        "---\n",
        "\n"
      ],
      "metadata": {
        "id": "eYLY4n1EmUYo"
      }
    },
    {
      "cell_type": "markdown",
      "source": [
        "## 시간 설정"
      ],
      "metadata": {
        "id": "xbdGEVPlIj1i"
      }
    },
    {
      "cell_type": "code",
      "source": [
        "help(Sys.timezone)"
      ],
      "metadata": {
        "id": "k8JK3UsrJhDg"
      },
      "execution_count": null,
      "outputs": []
    },
    {
      "cell_type": "code",
      "source": [
        "Sys.time()\n",
        "Sys.time() + (3600 * 9)  # KST"
      ],
      "metadata": {
        "colab": {
          "base_uri": "https://localhost:8080/",
          "height": 54
        },
        "id": "_EvYwF2ZImYE",
        "outputId": "f2c520a6-f064-4b82-d7ab-543bec16dcb4"
      },
      "execution_count": null,
      "outputs": [
        {
          "output_type": "display_data",
          "data": {
            "text/plain": [
              "[1] \"2022-09-14 04:10:21 UTC\""
            ]
          },
          "metadata": {}
        },
        {
          "output_type": "display_data",
          "data": {
            "text/plain": [
              "[1] \"2022-09-14 13:10:21 UTC\""
            ]
          },
          "metadata": {}
        }
      ]
    },
    {
      "cell_type": "code",
      "source": [
        "now <- Sys.time() + (3600 * 9)  # KST\n",
        "date <- format(now, \"%Y%m%d\")\n",
        "time <- format(now, \"%H00\")\n",
        "compare_time <- format(now - (3600 * 2), \"%Y%m%d%H\")  # \"%Y%m%d%H -> YYYYMMDDHH\""
      ],
      "metadata": {
        "id": "tWwPk2O6mhRH"
      },
      "execution_count": 69,
      "outputs": []
    },
    {
      "cell_type": "code",
      "source": [
        "library(dplyr)\n",
        "library(tidyr)\n",
        "library(httr)  # GET()\n",
        "library(ggplot2)\n",
        "library(stringr)"
      ],
      "metadata": {
        "id": "nCPIgVOSEcGk"
      },
      "execution_count": 100,
      "outputs": []
    },
    {
      "cell_type": "code",
      "source": [
        "URL_FCST <- \"http://apis.data.go.kr/1360000/VilageFcstInfoService_2.0/getVilageFcst\"\n",
        "URL_OBS <- \"http://apis.data.go.kr/1360000/AsosHourlyInfoService/getWthrDataList\"\n",
        "KEY <- \"\""
      ],
      "metadata": {
        "id": "Z7PaBgjZ3MH_"
      },
      "execution_count": 71,
      "outputs": []
    },
    {
      "cell_type": "markdown",
      "source": [
        "### API를 통해 데이터프레임 반환 함수"
      ],
      "metadata": {
        "id": "Vqz9gBtTMTvD"
      }
    },
    {
      "cell_type": "code",
      "source": [
        "get_api <- function(url, cols){\n",
        "    response <- GET(url=url) %>% content()\n",
        "    print(response)\n",
        "    unlist_data <- unlist(response$response$body$items, use.name = F)\n",
        "    matrix_data <- matrix(unlist_data, ncol = 8, byrow=T)\n",
        "    df <- data.frame(matrix_data)\n",
        "    names(df) <- cols\n",
        "    return(df)\n",
        "}"
      ],
      "metadata": {
        "id": "xgckHXaAMS2T"
      },
      "execution_count": 74,
      "outputs": []
    },
    {
      "cell_type": "code",
      "source": [
        "date <- format(now - 3600, \"%Y%m%d\")"
      ],
      "metadata": {
        "id": "IEpuXwG5vdKt"
      },
      "execution_count": 77,
      "outputs": []
    },
    {
      "cell_type": "code",
      "source": [
        "fcst_query_string <- paste0(\n",
        "    \"serviceKey=\", I(KEY),\n",
        "    \"&numOfRows=\", \"288\",  # 12개 category * 24시간 : 0200자료를 사용하면 0300부터 예측 24시간을 넣어야 다음날 02시까지 자료나옴\n",
        "    \"&pageNo=\", \"1\",  # pageNo 1 \n",
        "    \"&dataType=\", \"JSON\",\n",
        "    \"&base_date=\", date,\n",
        "    \"&base_time=\", \"0200\",\n",
        "    \"&nx=\", \"60\",\n",
        "    \"&ny=\", \"127\"\n",
        "    )\n",
        "\n",
        "# 단기 예보\n",
        "request_url <- paste(URL_FCST, fcst_query_string, sep=\"?\")\n",
        "fcst_cols <- c('baseDate','baseTime','category','fcstDate','fcstTime','fcstValue','nx','ny')\n",
        "df <- get_api(request_url, fcst_cols)"
      ],
      "metadata": {
        "id": "dG0C4BgR9_sk"
      },
      "execution_count": null,
      "outputs": []
    },
    {
      "cell_type": "code",
      "source": [
        "head(df)"
      ],
      "metadata": {
        "id": "4hUmrGpjMmFL"
      },
      "execution_count": null,
      "outputs": []
    },
    {
      "cell_type": "markdown",
      "source": [
        "## 동네예보 2일간 데이터 병합"
      ],
      "metadata": {
        "id": "SpZ06dS9Hf27"
      }
    },
    {
      "cell_type": "code",
      "source": [
        "now <- Sys.time() + (3600 * 9)  # KST\n",
        "date_1 <- format(now - (3600 * 24), \"%Y%m%d\")\n",
        "date_2 <- format(now - (3600 * 48), \"%Y%m%d\")\n",
        "dates <- c(date_2, date_1)"
      ],
      "metadata": {
        "id": "0MWEHyhu9PI7"
      },
      "execution_count": 79,
      "outputs": []
    },
    {
      "cell_type": "code",
      "source": [
        "help(data.frame)"
      ],
      "metadata": {
        "id": "x0Vp9noqOYvs"
      },
      "execution_count": 80,
      "outputs": []
    },
    {
      "cell_type": "code",
      "source": [
        "fcst_cols <- c('baseDate','baseTime','category','fcstDate','fcstTime','fcstValue','nx','ny')\n",
        "fcst_df <- data.frame(matrix(ncol = 8, nrow = 0))\n",
        "colnames(fcst_df) <- fcst_cols\n",
        "\n",
        "for (date in dates){\n",
        "    fcst_query_string <- paste0(\n",
        "        \"serviceKey=\", I(KEY),\n",
        "        \"&numOfRows=\", \"288\",\n",
        "        \"&pageNo=\", \"1\",\n",
        "        \"&dataType=\", \"JSON\",\n",
        "        \"&base_date=\", date,\n",
        "        \"&base_time=\", \"0200\",\n",
        "        \"&nx=\", \"60\",\n",
        "        \"&ny=\", \"127\"\n",
        "    )\n",
        "    request_fcst_url <- paste(URL_FCST, fcst_query_string, sep=\"?\")\n",
        "    fcst_df <- rbind(fcst_df, get_api(request_fcst_url, fcst_cols))\n",
        "}"
      ],
      "metadata": {
        "id": "L1tcMXh5NL30"
      },
      "execution_count": null,
      "outputs": []
    },
    {
      "cell_type": "markdown",
      "source": [
        "### 기상관측 2일 데이터 수집"
      ],
      "metadata": {
        "id": "Zfxq1U-VQGBU"
      }
    },
    {
      "cell_type": "code",
      "source": [
        "obs_query_string <- paste0(\n",
        "        \"serviceKey=\", I(KEY),\n",
        "        \"&numOfRows=\", \"100\",\n",
        "        \"&pageNo=\", \"1\",\n",
        "        \"&dataType=\", \"JSON\",\n",
        "        \"&dataCd=\", \"ASOS\",\n",
        "        \"&dateCd=\", \"HR\",  # 시간자료\n",
        "        \"&startDt=\", date_2,\n",
        "        \"&startHh=\", \"03\",\n",
        "        \"&endDt=\", date_1,\n",
        "        \"&endHh=\", \"23\",\n",
        "        \"&stnIds=\", \"108\"\n",
        "    )\n",
        "\n",
        "\n",
        "\n",
        "request_obs_url <- paste(URL_OBS, obs_query_string, sep=\"?\")\n",
        "response <- GET(url=request_obs_url)\n",
        "obs_df <- fromJSON(toJSON(content(response)))$response$body$items$item"
      ],
      "metadata": {
        "id": "9l-mmYPGQVBQ"
      },
      "execution_count": 82,
      "outputs": []
    },
    {
      "cell_type": "markdown",
      "source": [
        "### 예측, 관측 데이터 전처리"
      ],
      "metadata": {
        "id": "vSNUgasXV6FF"
      }
    },
    {
      "cell_type": "code",
      "source": [
        "# pre_fcst_df <- fcst_df %>%\n",
        "\n",
        "pre_fcst_df <- fcst_df %>% \n",
        "    filter(category == \"TMP\" | category == \"PCP\") %>% \n",
        "    mutate(tm = strptime(paste0(fcstDate, fcstTime), \"%Y%m%d%H00\")) %>%\n",
        "    select(tm, category, fcstValue)\n",
        "\n",
        "pre_fcst_df$tm <- format(pre_fcst_df$tm, \"%Y%m%d%H\")\n",
        "pre_fcst_df <- pivot_wider(pre_fcst_df, id_cols = tm, names_from = category, values_from = fcstValue) %>% \n",
        "                rename(TMP_FCST=\"TMP\", PCP_FCST=\"PCP\")"
      ],
      "metadata": {
        "id": "1b_HHZTXVvS9"
      },
      "execution_count": 83,
      "outputs": []
    },
    {
      "cell_type": "code",
      "source": [
        "pre_obs_df <- obs_df %>% \n",
        "    mutate(tm = format(strptime(tm, \"%Y-%m-%d %H:00\"), \"%Y%m%d%H\")) %>%\n",
        "    select(tm, ta, rn) %>%\n",
        "    rename(TMP_OBS=\"ta\", PCP_OBS=\"rn\")"
      ],
      "metadata": {
        "id": "L7mCaO9jmWqK"
      },
      "execution_count": 84,
      "outputs": []
    },
    {
      "cell_type": "code",
      "source": [
        "df <- merge(pre_fcst_df, pre_obs_df, by = \"tm\", type = \"inner\") %>%\n",
        "        select(tm, TMP_FCST, TMP_OBS, PCP_FCST, PCP_OBS) %>%\n",
        "        mutate_all(funs(str_replace(., \"강수없음\", \"0\")))"
      ],
      "metadata": {
        "id": "XwaghLDGrFJG"
      },
      "execution_count": 101,
      "outputs": []
    },
    {
      "cell_type": "code",
      "source": [
        "df$TMP_FCST <- as.numeric(df$TMP_FCST)\n",
        "df$TMP_OBS <- as.numeric(df$TMP_OBS)\n",
        "df$PCP_FCST <- as.numeric(df$PCP_FCST)\n",
        "df$PCP_OBS <- as.numeric(df$PCP_OBS)\n",
        "df[is.na(df)] <- 0"
      ],
      "metadata": {
        "id": "bNSd0ghGsJ8o"
      },
      "execution_count": 103,
      "outputs": []
    },
    {
      "cell_type": "code",
      "source": [
        "help(str_replace)"
      ],
      "metadata": {
        "id": "tqR1t8Df0APw"
      },
      "execution_count": 104,
      "outputs": []
    },
    {
      "cell_type": "code",
      "source": [
        "summary(df)"
      ],
      "metadata": {
        "colab": {
          "base_uri": "https://localhost:8080/",
          "height": 146
        },
        "id": "QwNyqYuBsoh_",
        "outputId": "5677c517-21cd-413f-fc5d-e8baebc11c36"
      },
      "execution_count": 105,
      "outputs": [
        {
          "output_type": "display_data",
          "data": {
            "text/plain": [
              "      tm               TMP_FCST       TMP_OBS         PCP_FCST    PCP_OBS \n",
              " Length:31          Min.   :21.0   Min.   :22.10   Min.   :0   Min.   :0  \n",
              " Class :character   1st Qu.:22.0   1st Qu.:22.80   1st Qu.:0   1st Qu.:0  \n",
              " Mode  :character   Median :22.0   Median :23.70   Median :0   Median :0  \n",
              "                    Mean   :23.1   Mean   :24.07   Mean   :0   Mean   :0  \n",
              "                    3rd Qu.:24.0   3rd Qu.:24.95   3rd Qu.:0   3rd Qu.:0  \n",
              "                    Max.   :27.0   Max.   :27.80   Max.   :0   Max.   :0  "
            ]
          },
          "metadata": {}
        }
      ]
    },
    {
      "cell_type": "markdown",
      "source": [
        "### 관측 기온 비교"
      ],
      "metadata": {
        "id": "Ngm-BG2u3JiY"
      }
    },
    {
      "cell_type": "code",
      "source": [
        "df_chart <- pivot_longer(df, cols = -tm, names_to = \"category\", values_to = \"value\")\n",
        "df_chart_tmp <- df_chart %>% filter(grepl(\"TMP\", category))"
      ],
      "metadata": {
        "id": "L2nAR7MNvloK"
      },
      "execution_count": 106,
      "outputs": []
    },
    {
      "cell_type": "code",
      "source": [
        "colorchip <- c(\"#d1495b\", \"#edae49\", \"#66a182\")\n",
        "\n",
        "options(repr.plot.width = 20, repr.plot.height = 8)\n",
        "ggplot(data = df_chart_tmp, aes(x = tm, y = value, group = category, color = category)) + \n",
        "            geom_line(size=2) +\n",
        "            theme(text = element_text(size = 15), axis.text.x = element_text(angle = 45, vjust = 0.5, hjust = 1))"
      ],
      "metadata": {
        "colab": {
          "base_uri": "https://localhost:8080/",
          "height": 497
        },
        "id": "HgIxri72w1Jb",
        "outputId": "b95550c5-f65d-460d-9403-1c11d26a6043"
      },
      "execution_count": 107,
      "outputs": [
        {
          "output_type": "display_data",
          "data": {
            "text/plain": [
              "plot without title"
            ],
            "image/png": "[encoded data removed]"
          },
          "metadata": {
            "image/png": {
              "width": 1200,
              "height": 480
            }
          }
        }
      ]
    },
    {
      "cell_type": "code",
      "source": [],
      "metadata": {
        "id": "8x6_-36f27ww"
      },
      "execution_count": null,
      "outputs": []
    }
  ]
}